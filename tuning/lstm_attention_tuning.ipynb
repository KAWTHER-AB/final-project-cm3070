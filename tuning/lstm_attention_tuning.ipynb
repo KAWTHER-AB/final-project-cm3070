{
 "cells": [
  {
   "cell_type": "markdown",
   "metadata": {},
   "source": [
    "#  **Hyperparameter Tuning with Optuna (LSTM with Attention + SMOTE)**\n"
   ]
  },
  {
   "cell_type": "markdown",
   "metadata": {},
   "source": [
    "## **1. Overview of the Hyperparameter Tuning Process**\n",
    "\n",
    "This section performs hyperparameter tuning for the LSTM + Attention model using **Optuna**, a powerful optimization framework. Here's a breakdown of what we did:\n",
    "\n",
    "1. **Setup**: Imported all required libraries and utility functions.\n",
    "2. **Data Loading**: Loaded the preprocessed and scaled training/validation/test sets (after SMOTE) from the main notebook using: `artifacts/lstm_with_attention/data_for_tuning.pkl`\n",
    "3. **LSTM Input Preparation**: Reshaped the data into 3D sequences `(samples, timesteps=1, features)` as required by LSTM.\n",
    "4. **Defined the Optuna Objective Function**:\n",
    "- Tuned hyperparameters:\n",
    "  - `lstm_units`: Number of units in LSTM layers\n",
    "  - `dense_units`: Size of the dense layer\n",
    "  - `dropout_rate`: Regularization to prevent overfitting\n",
    "  - `learning_rate`: Learning rate for training\n",
    "  - `optimizer`: Either `'adam'` or `'rmsprop'`\n",
    "- Trained the model for **10 epochs** and tracked validation AUC.\n",
    "- Returned the final AUC score for each trial.\n",
    "5. **Ran the Tuning Process**:\n",
    "- Conducted 10 Optuna trials to find the best hyperparameter combination.\n",
    "- Each trial trained a new model with a unique combination of hyperparameters.\n",
    "\n",
    "6. **Saved Results**:\n",
    "- Saved the full tuning history as a CSV file:\n",
    "  ```\n",
    "  tuning_results/lstm_with_attention_tuning_trials.csv\n",
    "  ```\n",
    "\n",
    "\n",
    "7. **🏆 Exported Best Parameters**:\n",
    "- Once the best parameters are found, we export them for reuse in the master notebook 📌[`final_experiments.ipynb`](../final_experiments.ipynb) for retraining, test evaluation, and reporting.\n",
    "\n",
    "\n",
    "\n",
    "This tuning setup allows us to find the most effective hyperparameters while keeping the model lightweight and reducing overfitting risk.\n",
    "\n"
   ]
  },
  {
   "cell_type": "code",
   "execution_count": 38,
   "metadata": {},
   "outputs": [],
   "source": [
    "import sys\n",
    "import os\n",
    "\n",
    "# Set path to root of the project (adjust if needed)\n",
    "project_root = os.path.abspath(\"..\")  # one level up\n",
    "if project_root not in sys.path:\n",
    "    sys.path.append(project_root)"
   ]
  },
  {
   "cell_type": "code",
   "execution_count": 23,
   "metadata": {},
   "outputs": [
    {
     "data": {
      "text/html": [
       "<span style='color: lightblue; font-size: 16px; font-weight: bold;'>🗂️ Loaded training/validation/test sets from: artifacts/lstm_with_attention/data_for_tuning.pkl</span>"
      ],
      "text/plain": [
       "<IPython.core.display.HTML object>"
      ]
     },
     "metadata": {},
     "output_type": "display_data"
    }
   ],
   "source": [
    "# tuning/lstm_attention_tuning.ipynb\n",
    "\n",
    "# Setup\n",
    "import numpy as np\n",
    "import pandas as pd\n",
    "import optuna\n",
    "import os\n",
    "import joblib\n",
    "import tensorflow as tf\n",
    "\n",
    "from models.lstm_attention_model import build_lstm_attention_model\n",
    "from training.lstm_attention_trainer import train_lstm_model\n",
    "from evaluation.metrics import compute_classification_metrics\n",
    "from evaluation.plots import plot_loss_curve\n",
    "from utils.callbacks import get_lstm_attention_callbacks\n",
    "from utils.style_utils import styled_print\n",
    "\n",
    "# Load saved training/validation/test data from main notebook\n",
    "X_train_res_scaled, y_train_res, X_val_scaled, y_val, X_test_scaled, y_test = joblib.load(\n",
    "    \"../artifacts/lstm_with_attention/data_for_tuning.pkl\"\n",
    ")\n",
    "\n",
    "\n",
    "styled_print(\"🗂️ Loaded training/validation/test sets from: artifacts/lstm_with_attention/data_for_tuning.pkl\")\n",
    "\n",
    "#  Prepare Data for LSTM\n",
    "X_train_seq = np.expand_dims(X_train_res_scaled.values, axis=1)\n",
    "X_val_seq   = np.expand_dims(X_val_scaled.values, axis=1)\n",
    "X_test_seq  = np.expand_dims(X_test_scaled.values, axis=1)\n",
    "input_shape = (1, X_train_seq.shape[2])\n",
    "\n",
    "#  Optuna Objective Function\n",
    "def objective(trial):\n",
    "    lstm_units = trial.suggest_categorical(\"lstm_units\", [32, 64, 128])\n",
    "    dense_units = trial.suggest_categorical(\"dense_units\", [32, 64, 128])\n",
    "    dropout_rate = trial.suggest_float(\"dropout_rate\", 0.2, 0.4, step=0.1)\n",
    "    learning_rate = trial.suggest_categorical(\"learning_rate\", [0.01, 0.001, 0.0005])\n",
    "    optimizer_name = trial.suggest_categorical(\"optimizer\", [\"adam\", \"rmsprop\"])\n",
    "\n",
    "    model = build_lstm_attention_model(\n",
    "        input_shape=input_shape,\n",
    "        lstm_units=lstm_units,\n",
    "        dense_units=dense_units,\n",
    "        dropout_rate=dropout_rate\n",
    "    )\n",
    "\n",
    "    optimizer = tf.keras.optimizers.Adam(learning_rate) if optimizer_name == \"adam\" \\\n",
    "                else tf.keras.optimizers.RMSprop(learning_rate)\n",
    "\n",
    "    model.compile(optimizer=optimizer, loss='binary_crossentropy', metrics=[tf.keras.metrics.AUC(name='AUC')])\n",
    "\n",
    "    history = model.fit(\n",
    "        X_train_seq, y_train_res,\n",
    "        validation_data=(X_val_seq, y_val),\n",
    "        epochs=10,\n",
    "        batch_size=256,\n",
    "        verbose=0\n",
    "    )\n",
    "\n",
    "    # debugging\n",
    "    val_auc = history.history.get(\"val_auc\")\n",
    "    if val_auc is None:\n",
    "        print(\"❌ 'val_auc' not found in history. Available keys:\", history.history.keys())\n",
    "        return 0.0\n",
    "    print(f\"[Trial] AUC: {val_auc[-1]} for params: {trial.params}\")\n",
    "    return val_auc[-1]\n",
    "\n",
    "    #return history.history[\"val_auc\"][-1]"
   ]
  },
  {
   "cell_type": "code",
   "execution_count": 24,
   "metadata": {},
   "outputs": [
    {
     "name": "stderr",
     "output_type": "stream",
     "text": [
      "[I 2025-03-27 04:30:34,640] A new study created in memory with name: no-name-30b73dce-0dee-41dc-b21c-24dd993f5475\n"
     ]
    },
    {
     "name": "stderr",
     "output_type": "stream",
     "text": [
      "/opt/anaconda3/lib/python3.12/site-packages/keras/src/ops/nn.py:545: UserWarning: You are using a softmax over axis -1 of a tensor of shape (None, 1, 1). This axis has size 1. The softmax operation will always return the value 1, which is likely not what you intended. Did you mean to use a sigmoid instead?\n",
      "  warnings.warn(\n",
      "[I 2025-03-27 04:31:32,000] Trial 0 finished with value: 0.0 and parameters: {'lstm_units': 64, 'dense_units': 128, 'dropout_rate': 0.30000000000000004, 'learning_rate': 0.001, 'optimizer': 'rmsprop'}. Best is trial 0 with value: 0.0.\n"
     ]
    },
    {
     "name": "stdout",
     "output_type": "stream",
     "text": [
      "❌ 'val_auc' not found in history. Available keys: dict_keys(['AUC', 'loss', 'val_AUC', 'val_loss'])\n"
     ]
    },
    {
     "name": "stderr",
     "output_type": "stream",
     "text": [
      "[I 2025-03-27 04:32:00,572] Trial 1 finished with value: 0.0 and parameters: {'lstm_units': 32, 'dense_units': 64, 'dropout_rate': 0.2, 'learning_rate': 0.001, 'optimizer': 'rmsprop'}. Best is trial 0 with value: 0.0.\n"
     ]
    },
    {
     "name": "stdout",
     "output_type": "stream",
     "text": [
      "❌ 'val_auc' not found in history. Available keys: dict_keys(['AUC', 'loss', 'val_AUC', 'val_loss'])\n"
     ]
    },
    {
     "name": "stderr",
     "output_type": "stream",
     "text": [
      "[I 2025-03-27 04:33:22,595] Trial 2 finished with value: 0.0 and parameters: {'lstm_units': 128, 'dense_units': 32, 'dropout_rate': 0.2, 'learning_rate': 0.01, 'optimizer': 'adam'}. Best is trial 0 with value: 0.0.\n"
     ]
    },
    {
     "name": "stdout",
     "output_type": "stream",
     "text": [
      "❌ 'val_auc' not found in history. Available keys: dict_keys(['AUC', 'loss', 'val_AUC', 'val_loss'])\n"
     ]
    },
    {
     "name": "stderr",
     "output_type": "stream",
     "text": [
      "[I 2025-03-27 04:33:57,203] Trial 3 finished with value: 0.0 and parameters: {'lstm_units': 32, 'dense_units': 128, 'dropout_rate': 0.2, 'learning_rate': 0.001, 'optimizer': 'rmsprop'}. Best is trial 0 with value: 0.0.\n"
     ]
    },
    {
     "name": "stdout",
     "output_type": "stream",
     "text": [
      "❌ 'val_auc' not found in history. Available keys: dict_keys(['AUC', 'loss', 'val_AUC', 'val_loss'])\n"
     ]
    },
    {
     "name": "stderr",
     "output_type": "stream",
     "text": [
      "[I 2025-03-27 04:35:17,394] Trial 4 finished with value: 0.0 and parameters: {'lstm_units': 128, 'dense_units': 64, 'dropout_rate': 0.4, 'learning_rate': 0.0005, 'optimizer': 'adam'}. Best is trial 0 with value: 0.0.\n"
     ]
    },
    {
     "name": "stdout",
     "output_type": "stream",
     "text": [
      "❌ 'val_auc' not found in history. Available keys: dict_keys(['AUC', 'loss', 'val_AUC', 'val_loss'])\n"
     ]
    },
    {
     "name": "stderr",
     "output_type": "stream",
     "text": [
      "[I 2025-03-27 04:36:04,555] Trial 5 finished with value: 0.0 and parameters: {'lstm_units': 64, 'dense_units': 32, 'dropout_rate': 0.4, 'learning_rate': 0.0005, 'optimizer': 'adam'}. Best is trial 0 with value: 0.0.\n"
     ]
    },
    {
     "name": "stdout",
     "output_type": "stream",
     "text": [
      "❌ 'val_auc' not found in history. Available keys: dict_keys(['AUC', 'loss', 'val_AUC', 'val_loss'])\n"
     ]
    },
    {
     "name": "stderr",
     "output_type": "stream",
     "text": [
      "[I 2025-03-27 04:36:53,274] Trial 6 finished with value: 0.0 and parameters: {'lstm_units': 64, 'dense_units': 32, 'dropout_rate': 0.30000000000000004, 'learning_rate': 0.001, 'optimizer': 'adam'}. Best is trial 0 with value: 0.0.\n"
     ]
    },
    {
     "name": "stdout",
     "output_type": "stream",
     "text": [
      "❌ 'val_auc' not found in history. Available keys: dict_keys(['AUC', 'loss', 'val_AUC', 'val_loss'])\n"
     ]
    },
    {
     "name": "stderr",
     "output_type": "stream",
     "text": [
      "[I 2025-03-27 04:37:39,175] Trial 7 finished with value: 0.0 and parameters: {'lstm_units': 64, 'dense_units': 64, 'dropout_rate': 0.30000000000000004, 'learning_rate': 0.0005, 'optimizer': 'rmsprop'}. Best is trial 0 with value: 0.0.\n"
     ]
    },
    {
     "name": "stdout",
     "output_type": "stream",
     "text": [
      "❌ 'val_auc' not found in history. Available keys: dict_keys(['AUC', 'loss', 'val_AUC', 'val_loss'])\n"
     ]
    },
    {
     "name": "stderr",
     "output_type": "stream",
     "text": [
      "[I 2025-03-27 04:38:57,966] Trial 8 finished with value: 0.0 and parameters: {'lstm_units': 128, 'dense_units': 32, 'dropout_rate': 0.4, 'learning_rate': 0.0005, 'optimizer': 'adam'}. Best is trial 0 with value: 0.0.\n"
     ]
    },
    {
     "name": "stdout",
     "output_type": "stream",
     "text": [
      "❌ 'val_auc' not found in history. Available keys: dict_keys(['AUC', 'loss', 'val_AUC', 'val_loss'])\n"
     ]
    },
    {
     "name": "stderr",
     "output_type": "stream",
     "text": [
      "[I 2025-03-27 04:39:54,215] Trial 9 finished with value: 0.0 and parameters: {'lstm_units': 64, 'dense_units': 128, 'dropout_rate': 0.4, 'learning_rate': 0.001, 'optimizer': 'rmsprop'}. Best is trial 0 with value: 0.0.\n"
     ]
    },
    {
     "name": "stdout",
     "output_type": "stream",
     "text": [
      "❌ 'val_auc' not found in history. Available keys: dict_keys(['AUC', 'loss', 'val_AUC', 'val_loss'])\n"
     ]
    }
   ],
   "source": [
    "#  Run Tuning\n",
    "study = optuna.create_study(direction=\"maximize\")\n",
    "study.optimize(objective, n_trials=10)"
   ]
  },
  {
   "cell_type": "code",
   "execution_count": 29,
   "metadata": {},
   "outputs": [
    {
     "data": {
      "text/html": [
       "<span style='color: lightblue; font-size: 16px; font-weight: bold;'>📁 Tuning trials saved to: tuning_results/lstm_with_attention_tuning_trials.csv</span>"
      ],
      "text/plain": [
       "<IPython.core.display.HTML object>"
      ]
     },
     "metadata": {},
     "output_type": "display_data"
    },
    {
     "name": "stdout",
     "output_type": "stream",
     "text": [
      "✅ CSV saved at: tuning_results/lstm_with_attention_tuning_trials.csv\n"
     ]
    }
   ],
   "source": [
    "#  Save trials and best params\n",
    "os.makedirs(\"tuning_results\", exist_ok=True)\n",
    "df_trials = study.trials_dataframe()\n",
    "df_trials.to_csv(\"tuning_results/lstm_with_attention_tuning_trials.csv\", index=False)\n",
    "styled_print(\"📁 Tuning trials saved to: tuning_results/lstm_with_attention_tuning_trials.csv\")\n",
    "print(\"✅ CSV saved at: tuning_results/lstm_with_attention_tuning_trials.csv\")"
   ]
  },
  {
   "cell_type": "markdown",
   "metadata": {},
   "source": [
    "## **2. Final Re-training Using Best Hyperparameters**\n",
    "\n",
    "\n",
    "In this step, we re-train the LSTM + Attention model using the **best hyperparameters** found during Optuna tuning. This re-training uses the full training set (resampled with SMOTE), and we monitor validation performance with metrics like AUC, Recall, and Precision.\n",
    "\n",
    "8. **Re-train Final Model**: Trained a new LSTM + Attention model using the best hyperparameters (no test evaluation yet).\n",
    "8. **Model Saving:** Saved the best re-trained model to disk using: `best_model.save(\"tuning_results/lstm_with_attention_best_model_after_tuning.h5\")`\n",
    "\n",
    "⚠️ **Important**: We still **do not evaluate on the test set** at this stage to avoid data leakage. This model will be used later in the evaluation phase after final training is complete.\n"
   ]
  },
  {
   "cell_type": "code",
   "execution_count": 41,
   "metadata": {},
   "outputs": [
    {
     "data": {
      "text/html": [
       "<span style='color: lightblue; font-size: 16px; font-weight: bold;'> Re-training Final LSTM + Attention Model Using Best Parameters (NO test evaluation yet!)</span>"
      ],
      "text/plain": [
       "<IPython.core.display.HTML object>"
      ]
     },
     "metadata": {},
     "output_type": "display_data"
    },
    {
     "name": "stdout",
     "output_type": "stream",
     "text": [
      "Epoch 1/50\n",
      "\u001b[1m1550/1550\u001b[0m \u001b[32m━━━━━━━━━━━━━━━━━━━━\u001b[0m\u001b[37m\u001b[0m \u001b[1m8s\u001b[0m 4ms/step - AUC: 0.9816 - Precision: 0.9677 - Recall: 0.8999 - loss: 0.1635 - val_AUC: 0.9735 - val_Precision: 0.0474 - val_Recall: 0.8873 - val_loss: 0.1029 - learning_rate: 0.0010\n",
      "Epoch 2/50\n",
      "\u001b[1m1550/1550\u001b[0m \u001b[32m━━━━━━━━━━━━━━━━━━━━\u001b[0m\u001b[37m\u001b[0m \u001b[1m6s\u001b[0m 4ms/step - AUC: 0.9917 - Precision: 0.9665 - Recall: 0.9369 - loss: 0.1143 - val_AUC: 0.9336 - val_Precision: 0.8833 - val_Recall: 0.7465 - val_loss: 0.0045 - learning_rate: 0.0010\n",
      "Epoch 3/50\n",
      "\u001b[1m1550/1550\u001b[0m \u001b[32m━━━━━━━━━━━━━━━━━━━━\u001b[0m\u001b[37m\u001b[0m \u001b[1m6s\u001b[0m 4ms/step - AUC: 0.9932 - Precision: 0.9657 - Recall: 0.9461 - loss: 0.1032 - val_AUC: 0.9356 - val_Precision: 0.8438 - val_Recall: 0.7606 - val_loss: 0.0046 - learning_rate: 0.0010\n",
      "Epoch 4/50\n",
      "\u001b[1m1550/1550\u001b[0m \u001b[32m━━━━━━━━━━━━━━━━━━━━\u001b[0m\u001b[37m\u001b[0m \u001b[1m6s\u001b[0m 4ms/step - AUC: 0.9942 - Precision: 0.9670 - Recall: 0.9530 - loss: 0.0952 - val_AUC: 0.8336 - val_Precision: 0.0020 - val_Recall: 1.0000 - val_loss: 3.5629 - learning_rate: 0.0010\n",
      "Epoch 5/50\n",
      "\u001b[1m1537/1550\u001b[0m \u001b[32m━━━━━━━━━━━━━━━━━━━\u001b[0m\u001b[37m━\u001b[0m \u001b[1m0s\u001b[0m 4ms/step - AUC: 0.9949 - Precision: 0.9682 - Recall: 0.9571 - loss: 0.0898\n",
      "Epoch 5: ReduceLROnPlateau reducing learning rate to 0.0005000000237487257.\n",
      "\u001b[1m1550/1550\u001b[0m \u001b[32m━━━━━━━━━━━━━━━━━━━━\u001b[0m\u001b[37m\u001b[0m \u001b[1m7s\u001b[0m 4ms/step - AUC: 0.9949 - Precision: 0.9682 - Recall: 0.9571 - loss: 0.0897 - val_AUC: 0.9505 - val_Precision: 0.0025 - val_Recall: 1.0000 - val_loss: 1.7022 - learning_rate: 0.0010\n",
      "Epoch 6/50\n",
      "\u001b[1m1550/1550\u001b[0m \u001b[32m━━━━━━━━━━━━━━━━━━━━\u001b[0m\u001b[37m\u001b[0m \u001b[1m7s\u001b[0m 4ms/step - AUC: 0.9961 - Precision: 0.9706 - Recall: 0.9643 - loss: 0.0781 - val_AUC: 0.9469 - val_Precision: 0.3046 - val_Recall: 0.8451 - val_loss: 0.0128 - learning_rate: 5.0000e-04\n",
      "Epoch 7/50\n",
      "\u001b[1m1550/1550\u001b[0m \u001b[32m━━━━━━━━━━━━━━━━━━━━\u001b[0m\u001b[37m\u001b[0m \u001b[1m8s\u001b[0m 5ms/step - AUC: 0.9965 - Precision: 0.9722 - Recall: 0.9672 - loss: 0.0736 - val_AUC: 0.9577 - val_Precision: 0.0136 - val_Recall: 0.9296 - val_loss: 0.2600 - learning_rate: 5.0000e-04\n",
      "Epoch 7: early stopping\n",
      "Restoring model weights from the end of the best epoch: 2.\n"
     ]
    }
   ],
   "source": [
    "styled_print(\" Re-training Final LSTM + Attention Model Using Best Parameters (NO test evaluation yet!)\")\n",
    "\n",
    "best_model = build_lstm_attention_model(\n",
    "    input_shape=input_shape,\n",
    "    lstm_units=best_params[\"lstm_units\"],\n",
    "    dense_units=best_params[\"dense_units\"],\n",
    "    dropout_rate=best_params[\"dropout_rate\"]\n",
    ")\n",
    "\n",
    "optimizer = tf.keras.optimizers.Adam(learning_rate=best_params[\"learning_rate\"]) \\\n",
    "            if best_params[\"optimizer\"] == \"adam\" else tf.keras.optimizers.RMSprop(learning_rate=best_params[\"learning_rate\"])\n",
    "\n",
    "best_model.compile(\n",
    "    optimizer=optimizer,\n",
    "    loss='binary_crossentropy',\n",
    "    metrics=[\n",
    "        tf.keras.metrics.AUC(name='AUC'),\n",
    "        tf.keras.metrics.Recall(name='Recall'),\n",
    "        tf.keras.metrics.Precision(name='Precision')\n",
    "    ]\n",
    ")\n",
    "\n",
    "best_history = best_model.fit(\n",
    "    X_train_seq, y_train_res,\n",
    "    validation_data=(X_val_seq, y_val),\n",
    "    epochs=50,\n",
    "    batch_size=256,\n",
    "    callbacks=get_lstm_attention_callbacks(),\n",
    "    verbose=1\n",
    ")\n",
    "\n"
   ]
  },
  {
   "cell_type": "code",
   "execution_count": 43,
   "metadata": {},
   "outputs": [
    {
     "name": "stderr",
     "output_type": "stream",
     "text": [
      "WARNING:absl:You are saving your model as an HDF5 file via `model.save()` or `keras.saving.save_model(model)`. This file format is considered legacy. We recommend using instead the native Keras format, e.g. `model.save('my_model.keras')` or `keras.saving.save_model(model, 'my_model.keras')`. \n"
     ]
    }
   ],
   "source": [
    "best_model.save(\"tuning_results/lstm_with_attention_best_model_after_tuning.h5\")"
   ]
  },
  {
   "cell_type": "code",
   "execution_count": 46,
   "metadata": {},
   "outputs": [
    {
     "data": {
      "text/html": [
       "<span style='color: lightblue; font-size: 16px; font-weight: bold;'>📂 Training history saved to: tuning_results/lstm_with_attention_best_history_after_tuning.pkl</span>"
      ],
      "text/plain": [
       "<IPython.core.display.HTML object>"
      ]
     },
     "metadata": {},
     "output_type": "display_data"
    }
   ],
   "source": [
    "import joblib\n",
    "\n",
    "# 💾 Save the training history dictionary\n",
    "joblib.dump(best_history.history, \"tuning_results/lstm_with_attention_best_history_after_tuning.pkl\")\n",
    "styled_print(\"📂 Training history saved to: tuning_results/lstm_with_attention_best_history_after_tuning.pkl\")\n"
   ]
  },
  {
   "cell_type": "code",
   "execution_count": 44,
   "metadata": {},
   "outputs": [
    {
     "data": {
      "image/png": "[encoded data removed]",
      "text/plain": [
       "<Figure size 600x400 with 1 Axes>"
      ]
     },
     "metadata": {},
     "output_type": "display_data"
    }
   ],
   "source": [
    "plot_loss_curve(best_history, title=\"LSTM + Attention Training Loss (After Tuning)\")\n"
   ]
  },
  {
   "cell_type": "markdown",
   "metadata": {},
   "source": [
    "## **3. Unit Testing**"
   ]
  },
  {
   "cell_type": "code",
   "execution_count": 50,
   "metadata": {},
   "outputs": [
    {
     "name": "stderr",
     "output_type": "stream",
     "text": [
      "test_1_data_shapes (__main__.TestLSTMAttentionTuning.test_1_data_shapes)\n",
      "Test training and validation data shapes ... ok\n",
      "test_2_optuna_best_params (__main__.TestLSTMAttentionTuning.test_2_optuna_best_params)\n",
      "Check if Optuna tuning found expected parameters ... ok\n",
      "test_3_training_history_metrics (__main__.TestLSTMAttentionTuning.test_3_training_history_metrics)\n",
      "Verify retrained model has proper metrics ... ok\n",
      "test_4_model_saved (__main__.TestLSTMAttentionTuning.test_4_model_saved)\n",
      "Confirm the best model (.h5) is correctly saved ... ok\n",
      "test_5_history_saved (__main__.TestLSTMAttentionTuning.test_5_history_saved)\n",
      "Ensure the training history (.pkl) is correctly saved ... ok\n",
      "\n",
      "----------------------------------------------------------------------\n",
      "Ran 5 tests in 0.008s\n",
      "\n",
      "OK\n"
     ]
    },
    {
     "data": {
      "text/plain": [
       "<unittest.runner.TextTestResult run=5 errors=0 failures=0>"
      ]
     },
     "execution_count": 50,
     "metadata": {},
     "output_type": "execute_result"
    }
   ],
   "source": [
    "# 🧪 Class-Based Unit Testing for LSTM with Attention (Advanced)\n",
    "\n",
    "import unittest\n",
    "\n",
    "class TestLSTMAttentionTuning(unittest.TestCase):\n",
    "\n",
    "    @classmethod\n",
    "    def setUpClass(cls):\n",
    "        cls.X_train_seq = X_train_seq\n",
    "        cls.X_val_seq = X_val_seq\n",
    "        cls.input_shape = input_shape\n",
    "        cls.study = study\n",
    "        cls.best_history = best_history\n",
    "        cls.best_params = cls.study.best_trial.params\n",
    "        cls.saved_model_path = \"tuning_results/lstm_with_attention_best_model_after_tuning.h5\"\n",
    "        cls.saved_history_path = \"tuning_results/lstm_with_attention_best_history_after_tuning.pkl\"\n",
    "\n",
    "    def test_1_data_shapes(self):\n",
    "        \"\"\"Test training and validation data shapes\"\"\"\n",
    "        self.assertEqual(self.X_train_seq.ndim, 3, \"X_train_seq should have 3 dimensions (batch, timesteps, features)\")\n",
    "        self.assertEqual(self.X_val_seq.ndim, 3, \"X_val_seq should have 3 dimensions (batch, timesteps, features)\")\n",
    "\n",
    "    def test_2_optuna_best_params(self):\n",
    "        \"\"\"Check if Optuna tuning found expected parameters\"\"\"\n",
    "        required_params = [\"lstm_units\", \"dense_units\", \"dropout_rate\", \"learning_rate\", \"optimizer\"]\n",
    "        for param in required_params:\n",
    "            self.assertIn(param, self.best_params, f\"Optuna best params missing '{param}'\")\n",
    "\n",
    "    def test_3_training_history_metrics(self):\n",
    "        \"\"\"Verify retrained model has proper metrics\"\"\"\n",
    "        self.assertIn(\"val_AUC\", self.best_history.history, \"Re-trained model history missing 'val_AUC'\")\n",
    "        self.assertGreater(len(self.best_history.history[\"val_AUC\"]), 0, \"val_AUC history is empty\")\n",
    "\n",
    "    def test_4_model_saved(self):\n",
    "        \"\"\"Confirm the best model (.h5) is correctly saved\"\"\"\n",
    "        self.assertTrue(os.path.exists(self.saved_model_path), \"Best model file (.h5) not found.\")\n",
    "\n",
    "    def test_5_history_saved(self):\n",
    "        \"\"\"Ensure the training history (.pkl) is correctly saved\"\"\"\n",
    "        self.assertTrue(os.path.exists(self.saved_history_path), \"Training history file (.pkl) not found.\")\n",
    "\n",
    "# Run Unit Tests\n",
    "suite = unittest.TestLoader().loadTestsFromTestCase(TestLSTMAttentionTuning)\n",
    "unittest.TextTestRunner(verbosity=2).run(suite)\n"
   ]
  }
 ],
 "metadata": {
  "kernelspec": {
   "display_name": "base",
   "language": "python",
   "name": "python3"
  },
  "language_info": {
   "codemirror_mode": {
    "name": "ipython",
    "version": 3
   },
   "file_extension": ".py",
   "mimetype": "text/x-python",
   "name": "python",
   "nbconvert_exporter": "python",
   "pygments_lexer": "ipython3",
   "version": "3.12.4"
  }
 },
 "nbformat": 4,
 "nbformat_minor": 2
}
